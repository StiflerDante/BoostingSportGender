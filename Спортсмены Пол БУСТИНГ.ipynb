{
 "cells": [
  {
   "cell_type": "code",
   "execution_count": 1,
   "id": "acbf50f9",
   "metadata": {},
   "outputs": [],
   "source": [
    "import numpy as np \n",
    "\n",
    "import pandas as pd \n",
    "\n",
    "\n",
    "import matplotlib.pyplot as plt \n",
    "\n",
    "import seaborn as sns \n"
   ]
  },
  {
   "cell_type": "code",
   "execution_count": 2,
   "id": "36884820",
   "metadata": {},
   "outputs": [],
   "source": [
    "df = pd.read_csv(\"https://raw.githubusercontent.com/netology-code/ds3-spring-2018/master/2.%20Basic%20Algorithms/2.4%20Accuracy_regularization/athletes.csv\", encoding = \"utf-8\")"
   ]
  },
  {
   "cell_type": "code",
   "execution_count": 3,
   "id": "5bf71d5f",
   "metadata": {},
   "outputs": [
    {
     "data": {
      "text/html": [
       "<div>\n",
       "<style scoped>\n",
       "    .dataframe tbody tr th:only-of-type {\n",
       "        vertical-align: middle;\n",
       "    }\n",
       "\n",
       "    .dataframe tbody tr th {\n",
       "        vertical-align: top;\n",
       "    }\n",
       "\n",
       "    .dataframe thead th {\n",
       "        text-align: right;\n",
       "    }\n",
       "</style>\n",
       "<table border=\"1\" class=\"dataframe\">\n",
       "  <thead>\n",
       "    <tr style=\"text-align: right;\">\n",
       "      <th></th>\n",
       "      <th>id</th>\n",
       "      <th>name</th>\n",
       "      <th>nationality</th>\n",
       "      <th>sex</th>\n",
       "      <th>dob</th>\n",
       "      <th>height</th>\n",
       "      <th>weight</th>\n",
       "      <th>sport</th>\n",
       "      <th>gold</th>\n",
       "      <th>silver</th>\n",
       "      <th>bronze</th>\n",
       "    </tr>\n",
       "  </thead>\n",
       "  <tbody>\n",
       "    <tr>\n",
       "      <th>0</th>\n",
       "      <td>736041664</td>\n",
       "      <td>A Jesus Garcia</td>\n",
       "      <td>ESP</td>\n",
       "      <td>male</td>\n",
       "      <td>10/17/69</td>\n",
       "      <td>1.72</td>\n",
       "      <td>64.0</td>\n",
       "      <td>athletics</td>\n",
       "      <td>0</td>\n",
       "      <td>0</td>\n",
       "      <td>0</td>\n",
       "    </tr>\n",
       "    <tr>\n",
       "      <th>1</th>\n",
       "      <td>532037425</td>\n",
       "      <td>A Lam Shin</td>\n",
       "      <td>KOR</td>\n",
       "      <td>female</td>\n",
       "      <td>9/23/86</td>\n",
       "      <td>1.68</td>\n",
       "      <td>56.0</td>\n",
       "      <td>fencing</td>\n",
       "      <td>0</td>\n",
       "      <td>0</td>\n",
       "      <td>0</td>\n",
       "    </tr>\n",
       "    <tr>\n",
       "      <th>2</th>\n",
       "      <td>435962603</td>\n",
       "      <td>Aaron Brown</td>\n",
       "      <td>CAN</td>\n",
       "      <td>male</td>\n",
       "      <td>5/27/92</td>\n",
       "      <td>1.98</td>\n",
       "      <td>79.0</td>\n",
       "      <td>athletics</td>\n",
       "      <td>0</td>\n",
       "      <td>0</td>\n",
       "      <td>1</td>\n",
       "    </tr>\n",
       "    <tr>\n",
       "      <th>3</th>\n",
       "      <td>521041435</td>\n",
       "      <td>Aaron Cook</td>\n",
       "      <td>MDA</td>\n",
       "      <td>male</td>\n",
       "      <td>1/2/91</td>\n",
       "      <td>1.83</td>\n",
       "      <td>80.0</td>\n",
       "      <td>taekwondo</td>\n",
       "      <td>0</td>\n",
       "      <td>0</td>\n",
       "      <td>0</td>\n",
       "    </tr>\n",
       "    <tr>\n",
       "      <th>4</th>\n",
       "      <td>33922579</td>\n",
       "      <td>Aaron Gate</td>\n",
       "      <td>NZL</td>\n",
       "      <td>male</td>\n",
       "      <td>11/26/90</td>\n",
       "      <td>1.81</td>\n",
       "      <td>71.0</td>\n",
       "      <td>cycling</td>\n",
       "      <td>0</td>\n",
       "      <td>0</td>\n",
       "      <td>0</td>\n",
       "    </tr>\n",
       "  </tbody>\n",
       "</table>\n",
       "</div>"
      ],
      "text/plain": [
       "          id            name nationality     sex       dob  height  weight  \\\n",
       "0  736041664  A Jesus Garcia         ESP    male  10/17/69    1.72    64.0   \n",
       "1  532037425      A Lam Shin         KOR  female   9/23/86    1.68    56.0   \n",
       "2  435962603     Aaron Brown         CAN    male   5/27/92    1.98    79.0   \n",
       "3  521041435      Aaron Cook         MDA    male    1/2/91    1.83    80.0   \n",
       "4   33922579      Aaron Gate         NZL    male  11/26/90    1.81    71.0   \n",
       "\n",
       "       sport  gold  silver  bronze  \n",
       "0  athletics     0       0       0  \n",
       "1    fencing     0       0       0  \n",
       "2  athletics     0       0       1  \n",
       "3  taekwondo     0       0       0  \n",
       "4    cycling     0       0       0  "
      ]
     },
     "execution_count": 3,
     "metadata": {},
     "output_type": "execute_result"
    }
   ],
   "source": [
    "df.head()"
   ]
  },
  {
   "cell_type": "code",
   "execution_count": 4,
   "id": "b5f1bf93",
   "metadata": {},
   "outputs": [
    {
     "data": {
      "text/plain": [
       "id               0\n",
       "name             0\n",
       "nationality      0\n",
       "sex              0\n",
       "dob              1\n",
       "height         330\n",
       "weight         659\n",
       "sport            0\n",
       "gold             0\n",
       "silver           0\n",
       "bronze           0\n",
       "dtype: int64"
      ]
     },
     "execution_count": 4,
     "metadata": {},
     "output_type": "execute_result"
    }
   ],
   "source": [
    "df.isnull().sum()"
   ]
  },
  {
   "cell_type": "code",
   "execution_count": 5,
   "id": "727cbf4e",
   "metadata": {},
   "outputs": [],
   "source": [
    "df[\"height\"] = df.height.fillna(df.height.median()) \n",
    "\n",
    "df[\"weight\"] = df.height.fillna(df.height.median()) \n"
   ]
  },
  {
   "cell_type": "code",
   "execution_count": 6,
   "id": "83c80fb2",
   "metadata": {},
   "outputs": [
    {
     "data": {
      "text/plain": [
       "id             0\n",
       "name           0\n",
       "nationality    0\n",
       "sex            0\n",
       "dob            1\n",
       "height         0\n",
       "weight         0\n",
       "sport          0\n",
       "gold           0\n",
       "silver         0\n",
       "bronze         0\n",
       "dtype: int64"
      ]
     },
     "execution_count": 6,
     "metadata": {},
     "output_type": "execute_result"
    }
   ],
   "source": [
    "df.isnull().sum()"
   ]
  },
  {
   "cell_type": "code",
   "execution_count": 7,
   "id": "f3b45163",
   "metadata": {},
   "outputs": [
    {
     "data": {
      "image/png": "[encoded data removed]",
      "text/plain": [
       "<Figure size 1440x864 with 2 Axes>"
      ]
     },
     "metadata": {
      "needs_background": "light"
     },
     "output_type": "display_data"
    }
   ],
   "source": [
    "fig, axs = plt.subplots(1, 2, figsize = (20, 12))\n",
    "axs = axs.ravel()\n",
    "\n",
    "axs[0].boxplot(df.height)\n",
    "axs[0].set_title(\"Распределение роста\")\n",
    "axs[1].boxplot(df.weight)\n",
    "axs[1].set_title(\"Распределение веса\")\n",
    "plt.show()"
   ]
  },
  {
   "cell_type": "code",
   "execution_count": 8,
   "id": "8f06a179",
   "metadata": {},
   "outputs": [
    {
     "data": {
      "text/plain": [
       "male      6333\n",
       "female    5205\n",
       "Name: sex, dtype: int64"
      ]
     },
     "execution_count": 8,
     "metadata": {},
     "output_type": "execute_result"
    }
   ],
   "source": [
    "df.sex.value_counts()"
   ]
  },
  {
   "cell_type": "code",
   "execution_count": 9,
   "id": "85793c99",
   "metadata": {},
   "outputs": [
    {
     "data": {
      "image/png": "[encoded data removed]",
      "text/plain": [
       "<Figure size 360x360 with 1 Axes>"
      ]
     },
     "metadata": {},
     "output_type": "display_data"
    }
   ],
   "source": [
    "plt.figure(figsize = (5, 5))\n",
    "explode = (0., 0.1)\n",
    "\n",
    "plt.pie(df.sex.value_counts(), labels = [\"male\", \"female\"], autopct='%1.1f%%', explode = explode, colors = ['#66b3ff', '#99ff99'])\n",
    "\n",
    "plt.title(\"Соотношение полов\")\n",
    "\n",
    "plt.show()"
   ]
  },
  {
   "cell_type": "code",
   "execution_count": 10,
   "id": "fe4d43c8",
   "metadata": {},
   "outputs": [
    {
     "name": "stdout",
     "output_type": "stream",
     "text": [
      "<class 'pandas.core.frame.DataFrame'>\n",
      "RangeIndex: 11538 entries, 0 to 11537\n",
      "Data columns (total 11 columns):\n",
      " #   Column       Non-Null Count  Dtype  \n",
      "---  ------       --------------  -----  \n",
      " 0   id           11538 non-null  int64  \n",
      " 1   name         11538 non-null  object \n",
      " 2   nationality  11538 non-null  object \n",
      " 3   sex          11538 non-null  object \n",
      " 4   dob          11537 non-null  object \n",
      " 5   height       11538 non-null  float64\n",
      " 6   weight       11538 non-null  float64\n",
      " 7   sport        11538 non-null  object \n",
      " 8   gold         11538 non-null  int64  \n",
      " 9   silver       11538 non-null  int64  \n",
      " 10  bronze       11538 non-null  int64  \n",
      "dtypes: float64(2), int64(4), object(5)\n",
      "memory usage: 991.7+ KB\n"
     ]
    }
   ],
   "source": [
    "df.info()"
   ]
  },
  {
   "cell_type": "code",
   "execution_count": 11,
   "id": "40fcf51c",
   "metadata": {},
   "outputs": [
    {
     "data": {
      "text/html": [
       "<div>\n",
       "<style scoped>\n",
       "    .dataframe tbody tr th:only-of-type {\n",
       "        vertical-align: middle;\n",
       "    }\n",
       "\n",
       "    .dataframe tbody tr th {\n",
       "        vertical-align: top;\n",
       "    }\n",
       "\n",
       "    .dataframe thead th {\n",
       "        text-align: right;\n",
       "    }\n",
       "</style>\n",
       "<table border=\"1\" class=\"dataframe\">\n",
       "  <thead>\n",
       "    <tr style=\"text-align: right;\">\n",
       "      <th></th>\n",
       "      <th>id</th>\n",
       "      <th>height</th>\n",
       "      <th>weight</th>\n",
       "      <th>gold</th>\n",
       "      <th>silver</th>\n",
       "      <th>bronze</th>\n",
       "    </tr>\n",
       "  </thead>\n",
       "  <tbody>\n",
       "    <tr>\n",
       "      <th>count</th>\n",
       "      <td>1.153800e+04</td>\n",
       "      <td>11538.000000</td>\n",
       "      <td>11538.000000</td>\n",
       "      <td>11538.000000</td>\n",
       "      <td>11538.000000</td>\n",
       "      <td>11538.000000</td>\n",
       "    </tr>\n",
       "    <tr>\n",
       "      <th>mean</th>\n",
       "      <td>4.999885e+08</td>\n",
       "      <td>1.766102</td>\n",
       "      <td>1.766102</td>\n",
       "      <td>0.057722</td>\n",
       "      <td>0.056769</td>\n",
       "      <td>0.061016</td>\n",
       "    </tr>\n",
       "    <tr>\n",
       "      <th>std</th>\n",
       "      <td>2.908648e+08</td>\n",
       "      <td>0.111100</td>\n",
       "      <td>0.111100</td>\n",
       "      <td>0.255910</td>\n",
       "      <td>0.239147</td>\n",
       "      <td>0.243320</td>\n",
       "    </tr>\n",
       "    <tr>\n",
       "      <th>min</th>\n",
       "      <td>1.834700e+04</td>\n",
       "      <td>1.210000</td>\n",
       "      <td>1.210000</td>\n",
       "      <td>0.000000</td>\n",
       "      <td>0.000000</td>\n",
       "      <td>0.000000</td>\n",
       "    </tr>\n",
       "    <tr>\n",
       "      <th>25%</th>\n",
       "      <td>2.450997e+08</td>\n",
       "      <td>1.690000</td>\n",
       "      <td>1.690000</td>\n",
       "      <td>0.000000</td>\n",
       "      <td>0.000000</td>\n",
       "      <td>0.000000</td>\n",
       "    </tr>\n",
       "    <tr>\n",
       "      <th>50%</th>\n",
       "      <td>5.002011e+08</td>\n",
       "      <td>1.760000</td>\n",
       "      <td>1.760000</td>\n",
       "      <td>0.000000</td>\n",
       "      <td>0.000000</td>\n",
       "      <td>0.000000</td>\n",
       "    </tr>\n",
       "    <tr>\n",
       "      <th>75%</th>\n",
       "      <td>7.539874e+08</td>\n",
       "      <td>1.840000</td>\n",
       "      <td>1.840000</td>\n",
       "      <td>0.000000</td>\n",
       "      <td>0.000000</td>\n",
       "      <td>0.000000</td>\n",
       "    </tr>\n",
       "    <tr>\n",
       "      <th>max</th>\n",
       "      <td>9.999878e+08</td>\n",
       "      <td>2.210000</td>\n",
       "      <td>2.210000</td>\n",
       "      <td>5.000000</td>\n",
       "      <td>2.000000</td>\n",
       "      <td>2.000000</td>\n",
       "    </tr>\n",
       "  </tbody>\n",
       "</table>\n",
       "</div>"
      ],
      "text/plain": [
       "                 id        height        weight          gold        silver  \\\n",
       "count  1.153800e+04  11538.000000  11538.000000  11538.000000  11538.000000   \n",
       "mean   4.999885e+08      1.766102      1.766102      0.057722      0.056769   \n",
       "std    2.908648e+08      0.111100      0.111100      0.255910      0.239147   \n",
       "min    1.834700e+04      1.210000      1.210000      0.000000      0.000000   \n",
       "25%    2.450997e+08      1.690000      1.690000      0.000000      0.000000   \n",
       "50%    5.002011e+08      1.760000      1.760000      0.000000      0.000000   \n",
       "75%    7.539874e+08      1.840000      1.840000      0.000000      0.000000   \n",
       "max    9.999878e+08      2.210000      2.210000      5.000000      2.000000   \n",
       "\n",
       "             bronze  \n",
       "count  11538.000000  \n",
       "mean       0.061016  \n",
       "std        0.243320  \n",
       "min        0.000000  \n",
       "25%        0.000000  \n",
       "50%        0.000000  \n",
       "75%        0.000000  \n",
       "max        2.000000  "
      ]
     },
     "execution_count": 11,
     "metadata": {},
     "output_type": "execute_result"
    }
   ],
   "source": [
    "df.describe()"
   ]
  },
  {
   "cell_type": "code",
   "execution_count": 12,
   "id": "0cef39c6",
   "metadata": {},
   "outputs": [
    {
     "data": {
      "text/html": [
       "<div>\n",
       "<style scoped>\n",
       "    .dataframe tbody tr th:only-of-type {\n",
       "        vertical-align: middle;\n",
       "    }\n",
       "\n",
       "    .dataframe tbody tr th {\n",
       "        vertical-align: top;\n",
       "    }\n",
       "\n",
       "    .dataframe thead th {\n",
       "        text-align: right;\n",
       "    }\n",
       "</style>\n",
       "<table border=\"1\" class=\"dataframe\">\n",
       "  <thead>\n",
       "    <tr style=\"text-align: right;\">\n",
       "      <th></th>\n",
       "      <th>id</th>\n",
       "      <th>height</th>\n",
       "      <th>weight</th>\n",
       "      <th>gold</th>\n",
       "      <th>silver</th>\n",
       "      <th>bronze</th>\n",
       "    </tr>\n",
       "  </thead>\n",
       "  <tbody>\n",
       "    <tr>\n",
       "      <th>id</th>\n",
       "      <td>1.000000</td>\n",
       "      <td>0.004272</td>\n",
       "      <td>0.004272</td>\n",
       "      <td>0.008290</td>\n",
       "      <td>-0.020803</td>\n",
       "      <td>0.011978</td>\n",
       "    </tr>\n",
       "    <tr>\n",
       "      <th>height</th>\n",
       "      <td>0.004272</td>\n",
       "      <td>1.000000</td>\n",
       "      <td>1.000000</td>\n",
       "      <td>0.049467</td>\n",
       "      <td>0.040952</td>\n",
       "      <td>0.020982</td>\n",
       "    </tr>\n",
       "    <tr>\n",
       "      <th>weight</th>\n",
       "      <td>0.004272</td>\n",
       "      <td>1.000000</td>\n",
       "      <td>1.000000</td>\n",
       "      <td>0.049467</td>\n",
       "      <td>0.040952</td>\n",
       "      <td>0.020982</td>\n",
       "    </tr>\n",
       "    <tr>\n",
       "      <th>gold</th>\n",
       "      <td>0.008290</td>\n",
       "      <td>0.049467</td>\n",
       "      <td>0.049467</td>\n",
       "      <td>1.000000</td>\n",
       "      <td>0.024349</td>\n",
       "      <td>0.004682</td>\n",
       "    </tr>\n",
       "    <tr>\n",
       "      <th>silver</th>\n",
       "      <td>-0.020803</td>\n",
       "      <td>0.040952</td>\n",
       "      <td>0.040952</td>\n",
       "      <td>0.024349</td>\n",
       "      <td>1.000000</td>\n",
       "      <td>-0.014844</td>\n",
       "    </tr>\n",
       "    <tr>\n",
       "      <th>bronze</th>\n",
       "      <td>0.011978</td>\n",
       "      <td>0.020982</td>\n",
       "      <td>0.020982</td>\n",
       "      <td>0.004682</td>\n",
       "      <td>-0.014844</td>\n",
       "      <td>1.000000</td>\n",
       "    </tr>\n",
       "  </tbody>\n",
       "</table>\n",
       "</div>"
      ],
      "text/plain": [
       "              id    height    weight      gold    silver    bronze\n",
       "id      1.000000  0.004272  0.004272  0.008290 -0.020803  0.011978\n",
       "height  0.004272  1.000000  1.000000  0.049467  0.040952  0.020982\n",
       "weight  0.004272  1.000000  1.000000  0.049467  0.040952  0.020982\n",
       "gold    0.008290  0.049467  0.049467  1.000000  0.024349  0.004682\n",
       "silver -0.020803  0.040952  0.040952  0.024349  1.000000 -0.014844\n",
       "bronze  0.011978  0.020982  0.020982  0.004682 -0.014844  1.000000"
      ]
     },
     "execution_count": 12,
     "metadata": {},
     "output_type": "execute_result"
    }
   ],
   "source": [
    "df.corr()"
   ]
  },
  {
   "cell_type": "code",
   "execution_count": 13,
   "id": "ac2b049d",
   "metadata": {},
   "outputs": [],
   "source": [
    "y = df.sex\n",
    "\n",
    "X = df[[\"height\", \"weight\", \"sport\", \"gold\", \"silver\", \"bronze\"]]"
   ]
  },
  {
   "cell_type": "code",
   "execution_count": 14,
   "id": "ca43243f",
   "metadata": {},
   "outputs": [
    {
     "data": {
      "text/plain": [
       "array(['athletics', 'fencing', 'taekwondo', 'cycling', 'triathlon',\n",
       "       'volleyball', 'aquatics', 'rugby sevens', 'wrestling', 'football',\n",
       "       'shooting', 'boxing', 'equestrian', 'rowing', 'judo', 'handball',\n",
       "       'badminton', 'hockey', 'modern pentathlon', 'table tennis',\n",
       "       'canoe', 'basketball', 'golf', 'archery', 'weightlifting',\n",
       "       'sailing', 'tennis', 'gymnastics'], dtype=object)"
      ]
     },
     "execution_count": 14,
     "metadata": {},
     "output_type": "execute_result"
    }
   ],
   "source": [
    "X.sport.unique()"
   ]
  },
  {
   "cell_type": "code",
   "execution_count": 15,
   "id": "67cb0df8",
   "metadata": {},
   "outputs": [
    {
     "data": {
      "image/png": "[encoded data removed]",
      "text/plain": [
       "<Figure size 1440x1080 with 6 Axes>"
      ]
     },
     "metadata": {
      "needs_background": "light"
     },
     "output_type": "display_data"
    }
   ],
   "source": [
    "X.hist(bins = 50, figsize = (20, 15))\n",
    "\n",
    "plt.show()"
   ]
  },
  {
   "cell_type": "code",
   "execution_count": 16,
   "id": "7b04c559",
   "metadata": {},
   "outputs": [],
   "source": [
    "X = pd.get_dummies(X, columns = [\"sport\"])"
   ]
  },
  {
   "cell_type": "code",
   "execution_count": 17,
   "id": "2d2be5e9",
   "metadata": {},
   "outputs": [],
   "source": [
    "sex_v = {\"male\": 1, \"female\": 0}\n",
    "\n",
    "y = y.replace(sex_v)"
   ]
  },
  {
   "cell_type": "code",
   "execution_count": 18,
   "id": "3ad2fb38",
   "metadata": {},
   "outputs": [
    {
     "data": {
      "text/plain": [
       "0        1\n",
       "1        0\n",
       "2        1\n",
       "3        1\n",
       "4        1\n",
       "        ..\n",
       "11533    0\n",
       "11534    0\n",
       "11535    1\n",
       "11536    1\n",
       "11537    1\n",
       "Name: sex, Length: 11538, dtype: int64"
      ]
     },
     "execution_count": 18,
     "metadata": {},
     "output_type": "execute_result"
    }
   ],
   "source": [
    "y"
   ]
  },
  {
   "cell_type": "code",
   "execution_count": 19,
   "id": "18277de0",
   "metadata": {},
   "outputs": [],
   "source": [
    "from sklearn.linear_model import LogisticRegression, LogisticRegressionCV\n",
    "\n",
    "from sklearn.model_selection import train_test_split\n",
    "\n",
    "from sklearn.model_selection import cross_val_score\n",
    "\n",
    "from sklearn.model_selection import GridSearchCV\n",
    "\n",
    "from sklearn.metrics import accuracy_score\n",
    "\n",
    "from sklearn.metrics import classification_report \n",
    "\n",
    "from sklearn.metrics import confusion_matrix\n",
    "\n",
    "from sklearn.metrics import roc_auc_score"
   ]
  },
  {
   "cell_type": "code",
   "execution_count": 20,
   "id": "94496273",
   "metadata": {},
   "outputs": [],
   "source": [
    "from sklearn.metrics import roc_curve, precision_recall_curve"
   ]
  },
  {
   "cell_type": "code",
   "execution_count": 21,
   "id": "4fd5b212",
   "metadata": {},
   "outputs": [],
   "source": [
    "X_train, X_test, y_train, y_test = train_test_split(X, y, train_size = 0.3, shuffle = True, random_state = 44)"
   ]
  },
  {
   "cell_type": "code",
   "execution_count": 22,
   "id": "dc75bc21",
   "metadata": {},
   "outputs": [],
   "source": [
    "lg = LogisticRegression()"
   ]
  },
  {
   "cell_type": "code",
   "execution_count": 23,
   "id": "b58f86a2",
   "metadata": {},
   "outputs": [
    {
     "data": {
      "text/plain": [
       "LogisticRegression()"
      ]
     },
     "execution_count": 23,
     "metadata": {},
     "output_type": "execute_result"
    }
   ],
   "source": [
    "LogisticRegression(C = 1.0)# Параметр регуляризации"
   ]
  },
  {
   "cell_type": "code",
   "execution_count": 24,
   "id": "3c98d937",
   "metadata": {},
   "outputs": [
    {
     "data": {
      "text/plain": [
       "LogisticRegression()"
      ]
     },
     "execution_count": 24,
     "metadata": {},
     "output_type": "execute_result"
    }
   ],
   "source": [
    "lg.fit(X_train, y_train)"
   ]
  },
  {
   "cell_type": "code",
   "execution_count": 25,
   "id": "2fc159fa",
   "metadata": {},
   "outputs": [],
   "source": [
    "pred = lg.predict_proba(X_test)\n",
    "\n",
    "y_pred = lg.predict(X_test)"
   ]
  },
  {
   "cell_type": "code",
   "execution_count": 26,
   "id": "cdbafdf0",
   "metadata": {},
   "outputs": [],
   "source": [
    "pr, re, thres = precision_recall_curve(y_test, pred[:, 1])"
   ]
  },
  {
   "cell_type": "code",
   "execution_count": 27,
   "id": "1e998765",
   "metadata": {},
   "outputs": [
    {
     "data": {
      "text/plain": [
       "array([0.54455323, 0.54449678, 0.54456427, ..., 1.        , 1.        ,\n",
       "       1.        ])"
      ]
     },
     "execution_count": 27,
     "metadata": {},
     "output_type": "execute_result"
    }
   ],
   "source": [
    "pr"
   ]
  },
  {
   "cell_type": "code",
   "execution_count": 28,
   "id": "59a4c7eb",
   "metadata": {},
   "outputs": [
    {
     "data": {
      "text/plain": [
       "array([1.00000000e+00, 9.99772417e-01, 9.99772417e-01, ...,\n",
       "       4.55166136e-04, 2.27583068e-04, 0.00000000e+00])"
      ]
     },
     "execution_count": 28,
     "metadata": {},
     "output_type": "execute_result"
    }
   ],
   "source": [
    "re"
   ]
  },
  {
   "cell_type": "code",
   "execution_count": 29,
   "id": "8f63cf87",
   "metadata": {},
   "outputs": [
    {
     "data": {
      "text/plain": [
       "2101"
      ]
     },
     "execution_count": 29,
     "metadata": {},
     "output_type": "execute_result"
    }
   ],
   "source": [
    "len(thres)"
   ]
  },
  {
   "cell_type": "code",
   "execution_count": 30,
   "id": "a32023fd",
   "metadata": {},
   "outputs": [
    {
     "data": {
      "text/plain": [
       "[<matplotlib.lines.Line2D at 0x18d677a2ac0>]"
      ]
     },
     "execution_count": 30,
     "metadata": {},
     "output_type": "execute_result"
    },
    {
     "data": {
      "image/png": "[encoded data removed]",
      "text/plain": [
       "<Figure size 432x288 with 1 Axes>"
      ]
     },
     "metadata": {
      "needs_background": "light"
     },
     "output_type": "display_data"
    }
   ],
   "source": [
    "plt.plot(re, pr)"
   ]
  },
  {
   "cell_type": "code",
   "execution_count": 31,
   "id": "d63c02cc",
   "metadata": {},
   "outputs": [],
   "source": [
    "pr, re, thres = roc_curve(y_test, pred[:, 1])"
   ]
  },
  {
   "cell_type": "code",
   "execution_count": 32,
   "id": "947b7593",
   "metadata": {},
   "outputs": [
    {
     "data": {
      "text/plain": [
       "[<matplotlib.lines.Line2D at 0x18d6787fd30>]"
      ]
     },
     "execution_count": 32,
     "metadata": {},
     "output_type": "execute_result"
    },
    {
     "data": {
      "image/png": "[encoded data removed]",
      "text/plain": [
       "<Figure size 432x288 with 1 Axes>"
      ]
     },
     "metadata": {
      "needs_background": "light"
     },
     "output_type": "display_data"
    }
   ],
   "source": [
    "plt.plot(pr, re)"
   ]
  },
  {
   "cell_type": "code",
   "execution_count": 33,
   "id": "d682d3e0",
   "metadata": {},
   "outputs": [
    {
     "name": "stderr",
     "output_type": "stream",
     "text": [
      "C:\\Users\\User\\lib\\site-packages\\sklearn\\linear_model\\_logistic.py:814: ConvergenceWarning: lbfgs failed to converge (status=1):\n",
      "STOP: TOTAL NO. of ITERATIONS REACHED LIMIT.\n",
      "\n",
      "Increase the number of iterations (max_iter) or scale the data as shown in:\n",
      "    https://scikit-learn.org/stable/modules/preprocessing.html\n",
      "Please also refer to the documentation for alternative solver options:\n",
      "    https://scikit-learn.org/stable/modules/linear_model.html#logistic-regression\n",
      "  n_iter_i = _check_optimize_result(\n",
      "C:\\Users\\User\\lib\\site-packages\\sklearn\\linear_model\\_logistic.py:814: ConvergenceWarning: lbfgs failed to converge (status=1):\n",
      "STOP: TOTAL NO. of ITERATIONS REACHED LIMIT.\n",
      "\n",
      "Increase the number of iterations (max_iter) or scale the data as shown in:\n",
      "    https://scikit-learn.org/stable/modules/preprocessing.html\n",
      "Please also refer to the documentation for alternative solver options:\n",
      "    https://scikit-learn.org/stable/modules/linear_model.html#logistic-regression\n",
      "  n_iter_i = _check_optimize_result(\n"
     ]
    },
    {
     "data": {
      "text/plain": [
       "array([0.79116118, 0.78509532, 0.80762565, 0.77989601, 0.76516464,\n",
       "       0.79029463, 0.78422877, 0.80762565, 0.78837814, 0.78837814])"
      ]
     },
     "execution_count": 33,
     "metadata": {},
     "output_type": "execute_result"
    }
   ],
   "source": [
    "cross_val_score(lg, X, y, cv = 10, scoring = \"accuracy\")"
   ]
  },
  {
   "cell_type": "code",
   "execution_count": 34,
   "id": "3a142032",
   "metadata": {},
   "outputs": [
    {
     "data": {
      "text/plain": [
       "0.7846972885972514"
      ]
     },
     "execution_count": 34,
     "metadata": {},
     "output_type": "execute_result"
    }
   ],
   "source": [
    "accuracy_score(y_test, y_pred)"
   ]
  },
  {
   "cell_type": "code",
   "execution_count": 35,
   "id": "75ef457b",
   "metadata": {},
   "outputs": [],
   "source": [
    "from sklearn.ensemble import AdaBoostClassifier, GradientBoostingClassifier\n",
    "\n",
    "from sklearn.tree import DecisionTreeClassifier"
   ]
  },
  {
   "cell_type": "code",
   "execution_count": 37,
   "id": "e74bc173",
   "metadata": {},
   "outputs": [],
   "source": [
    "clf_ada = AdaBoostClassifier(DecisionTreeClassifier(max_depth = 5, min_samples_leaf = 20, max_features = 0.8), n_estimators = 20, learning_rate = 0.1)\n",
    "\n",
    "#shift + tab при наведении черты на алгоритм- можно посмотреть все параметры моделей/алгоритмов"
   ]
  },
  {
   "cell_type": "code",
   "execution_count": 38,
   "id": "0ddbd705",
   "metadata": {},
   "outputs": [
    {
     "data": {
      "text/plain": [
       "AdaBoostClassifier(base_estimator=DecisionTreeClassifier(max_depth=5,\n",
       "                                                         max_features=0.8,\n",
       "                                                         min_samples_leaf=20),\n",
       "                   learning_rate=0.1, n_estimators=20)"
      ]
     },
     "execution_count": 38,
     "metadata": {},
     "output_type": "execute_result"
    }
   ],
   "source": [
    "clf_ada.fit(X_train, y_train)"
   ]
  },
  {
   "cell_type": "code",
   "execution_count": 50,
   "id": "30c99c8a",
   "metadata": {},
   "outputs": [],
   "source": [
    "y_ada_pred_test = clf_ada.predict_proba(X_test)[:, 1]\n",
    "\n",
    "y_ada_pred_train = clf_ada.predict_proba(X_train)[:, 1]"
   ]
  },
  {
   "cell_type": "code",
   "execution_count": 49,
   "id": "861232c6",
   "metadata": {},
   "outputs": [
    {
     "data": {
      "text/plain": [
       "array([0.55251715, 0.83135963, 0.47274887, ..., 0.99948184, 0.40887664,\n",
       "       0.7291264 ])"
      ]
     },
     "execution_count": 49,
     "metadata": {},
     "output_type": "execute_result"
    }
   ],
   "source": [
    "y_ada_pred_test"
   ]
  },
  {
   "cell_type": "code",
   "execution_count": 55,
   "id": "c4b42a62",
   "metadata": {},
   "outputs": [],
   "source": [
    "pre, ree, thres = roc_curve(y_test, y_ada_pred_test)"
   ]
  },
  {
   "cell_type": "code",
   "execution_count": 56,
   "id": "1d843035",
   "metadata": {},
   "outputs": [
    {
     "data": {
      "text/plain": [
       "[<matplotlib.lines.Line2D at 0x18d69d49130>]"
      ]
     },
     "execution_count": 56,
     "metadata": {},
     "output_type": "execute_result"
    },
    {
     "data": {
      "image/png": "[encoded data removed]",
      "text/plain": [
       "<Figure size 432x288 with 1 Axes>"
      ]
     },
     "metadata": {
      "needs_background": "light"
     },
     "output_type": "display_data"
    }
   ],
   "source": [
    "plt.plot(pre, ree)"
   ]
  },
  {
   "cell_type": "code",
   "execution_count": 57,
   "id": "efab3661",
   "metadata": {},
   "outputs": [
    {
     "name": "stderr",
     "output_type": "stream",
     "text": [
      "C:\\Users\\User\\lib\\site-packages\\sklearn\\model_selection\\_validation.py:372: FitFailedWarning: \n",
      "5 fits failed out of a total of 5.\n",
      "The score on these train-test partitions for these parameters will be set to nan.\n",
      "If these failures are not expected, you can try to debug them by setting error_score='raise'.\n",
      "\n",
      "Below are more details about the failures:\n",
      "--------------------------------------------------------------------------------\n",
      "5 fits failed with the following error:\n",
      "Traceback (most recent call last):\n",
      "  File \"C:\\Users\\User\\lib\\site-packages\\sklearn\\model_selection\\_validation.py\", line 678, in _fit_and_score\n",
      "    estimator.fit(X_train, **fit_params)\n",
      "TypeError: fit() missing 1 required positional argument: 'y'\n",
      "\n",
      "  warnings.warn(some_fits_failed_message, FitFailedWarning)\n"
     ]
    },
    {
     "data": {
      "text/plain": [
       "array([nan, nan, nan, nan, nan])"
      ]
     },
     "execution_count": 57,
     "metadata": {},
     "output_type": "execute_result"
    }
   ],
   "source": []
  },
  {
   "cell_type": "code",
   "execution_count": 59,
   "id": "73f467d2",
   "metadata": {},
   "outputs": [
    {
     "data": {
      "text/plain": [
       "'              precision    recall  f1-score   support\\n\\n           0       0.75      0.77      0.76      3683\\n           1       0.80      0.79      0.80      4394\\n\\n    accuracy                           0.78      8077\\n   macro avg       0.78      0.78      0.78      8077\\nweighted avg       0.78      0.78      0.78      8077\\n'"
      ]
     },
     "execution_count": 59,
     "metadata": {},
     "output_type": "execute_result"
    }
   ],
   "source": [
    "y_ada_pred_test1 = clf_ada.predict(X_test)\n",
    "\n",
    "classification_report(y_test, y_ada_pred_test1)"
   ]
  },
  {
   "cell_type": "code",
   "execution_count": 61,
   "id": "5f94f3db",
   "metadata": {},
   "outputs": [
    {
     "data": {
      "text/plain": [
       "'              precision    recall  f1-score   support\\n\\n           0       0.78      0.74      0.76      3683\\n           1       0.79      0.83      0.81      4394\\n\\n    accuracy                           0.78      8077\\n   macro avg       0.78      0.78      0.78      8077\\nweighted avg       0.78      0.78      0.78      8077\\n'"
      ]
     },
     "execution_count": 61,
     "metadata": {},
     "output_type": "execute_result"
    }
   ],
   "source": [
    "\n",
    "classification_report(y_test, y_pred)"
   ]
  },
  {
   "cell_type": "code",
   "execution_count": 62,
   "id": "d7cdfaba",
   "metadata": {},
   "outputs": [],
   "source": [
    "clf_gbm = GradientBoostingClassifier(max_depth = 5, min_samples_leaf = 20, n_estimators = 20, subsample = 1.0, max_features = 0.8, verbose = 2)"
   ]
  },
  {
   "cell_type": "code",
   "execution_count": 64,
   "id": "e962b75d",
   "metadata": {},
   "outputs": [
    {
     "name": "stdout",
     "output_type": "stream",
     "text": [
      "      Iter       Train Loss   Remaining Time \n",
      "         1           1.3012            0.19s\n",
      "         2           1.2434            0.12s\n",
      "         3           1.1946            0.12s\n",
      "         4           1.1553            0.10s\n",
      "         5           1.1192            0.11s\n",
      "         6           1.0894            0.09s\n",
      "         7           1.0641            0.08s\n",
      "         8           1.0412            0.08s\n",
      "         9           1.0220            0.07s\n",
      "        10           1.0050            0.06s\n",
      "        11           0.9893            0.06s\n",
      "        12           0.9751            0.05s\n",
      "        13           0.9635            0.04s\n",
      "        14           0.9526            0.04s\n",
      "        15           0.9437            0.03s\n",
      "        16           0.9342            0.02s\n",
      "        17           0.9264            0.02s\n",
      "        18           0.9199            0.01s\n",
      "        19           0.9123            0.01s\n",
      "        20           0.9070            0.00s\n"
     ]
    },
    {
     "data": {
      "text/plain": [
       "GradientBoostingClassifier(max_depth=5, max_features=0.8, min_samples_leaf=20,\n",
       "                           n_estimators=20, verbose=2)"
      ]
     },
     "execution_count": 64,
     "metadata": {},
     "output_type": "execute_result"
    }
   ],
   "source": [
    "clf_gbm.fit(X_train, y_train)"
   ]
  },
  {
   "cell_type": "code",
   "execution_count": 68,
   "id": "314b06f1",
   "metadata": {},
   "outputs": [],
   "source": [
    "y_test_gb = clf_gbm.predict(X_test)"
   ]
  },
  {
   "cell_type": "code",
   "execution_count": 69,
   "id": "e773bef3",
   "metadata": {},
   "outputs": [
    {
     "data": {
      "text/plain": [
       "'              precision    recall  f1-score   support\\n\\n           0       0.76      0.76      0.76      3683\\n           1       0.80      0.79      0.80      4394\\n\\n    accuracy                           0.78      8077\\n   macro avg       0.78      0.78      0.78      8077\\nweighted avg       0.78      0.78      0.78      8077\\n'"
      ]
     },
     "execution_count": 69,
     "metadata": {},
     "output_type": "execute_result"
    }
   ],
   "source": [
    "classification_report(y_test, y_test_gb)"
   ]
  },
  {
   "cell_type": "code",
   "execution_count": 77,
   "id": "4fc2601c",
   "metadata": {},
   "outputs": [
    {
     "name": "stdout",
     "output_type": "stream",
     "text": [
      "Collecting package metadata (current_repodata.json): ...working... done\n",
      "Solving environment: ...working... done\n",
      "\n",
      "## Package Plan ##\n",
      "\n",
      "  environment location: C:\\Users\\User\n",
      "\n",
      "  added / updated specs:\n",
      "    - xgboost\n",
      "\n",
      "\n",
      "The following packages will be downloaded:\n",
      "\n",
      "    package                    |            build\n",
      "    ---------------------------|-----------------\n",
      "    _py-xgboost-mutex-2.0      |            cpu_0          12 KB\n",
      "    conda-22.11.1              |   py39haa95532_4         892 KB\n",
      "    libxgboost-1.5.0           |       hd77b12b_2         1.3 MB\n",
      "    py-xgboost-1.5.0           |   py39haa95532_2         156 KB\n",
      "    ruamel.yaml-0.17.21        |   py39h2bbff1b_0         174 KB\n",
      "    ruamel.yaml.clib-0.2.6     |   py39h2bbff1b_1         101 KB\n",
      "    xgboost-1.5.0              |   py39haa95532_2          15 KB\n",
      "    ------------------------------------------------------------\n",
      "                                           Total:         2.7 MB\n",
      "\n",
      "The following NEW packages will be INSTALLED:\n",
      "\n",
      "  _py-xgboost-mutex  pkgs/main/win-64::_py-xgboost-mutex-2.0-cpu_0\n",
      "  libxgboost         pkgs/main/win-64::libxgboost-1.5.0-hd77b12b_2\n",
      "  py-xgboost         pkgs/main/win-64::py-xgboost-1.5.0-py39haa95532_2\n",
      "  ruamel.yaml        pkgs/main/win-64::ruamel.yaml-0.17.21-py39h2bbff1b_0\n",
      "  ruamel.yaml.clib   pkgs/main/win-64::ruamel.yaml.clib-0.2.6-py39h2bbff1b_1\n",
      "  xgboost            pkgs/main/win-64::xgboost-1.5.0-py39haa95532_2\n",
      "\n",
      "The following packages will be UPDATED:\n",
      "\n",
      "  conda                               4.12.0-py39haa95532_0 --> 22.11.1-py39haa95532_4\n",
      "\n",
      "\n",
      "\n",
      "Downloading and Extracting Packages\n",
      "\n",
      "libxgboost-1.5.0     | 1.3 MB    |            |   0% \n",
      "libxgboost-1.5.0     | 1.3 MB    | 1          |   1% \n",
      "libxgboost-1.5.0     | 1.3 MB    | 8          |   8% \n",
      "libxgboost-1.5.0     | 1.3 MB    | #8         |  19% \n",
      "libxgboost-1.5.0     | 1.3 MB    | ##9        |  29% \n",
      "libxgboost-1.5.0     | 1.3 MB    | ###8       |  39% \n",
      "libxgboost-1.5.0     | 1.3 MB    | #####2     |  53% \n",
      "libxgboost-1.5.0     | 1.3 MB    | ######4    |  64% \n",
      "libxgboost-1.5.0     | 1.3 MB    | #######8   |  78% \n",
      "libxgboost-1.5.0     | 1.3 MB    | #########1 |  91% \n",
      "libxgboost-1.5.0     | 1.3 MB    | ########## | 100% \n",
      "\n",
      "conda-22.11.1        | 892 KB    |            |   0% \n",
      "conda-22.11.1        | 892 KB    | 1          |   2% \n",
      "conda-22.11.1        | 892 KB    | ##5        |  25% \n",
      "conda-22.11.1        | 892 KB    | ###9       |  39% \n",
      "conda-22.11.1        | 892 KB    | #####      |  50% \n",
      "conda-22.11.1        | 892 KB    | ########## | 100% \n",
      "\n",
      "xgboost-1.5.0        | 15 KB     |            |   0% \n",
      "xgboost-1.5.0        | 15 KB     | ########## | 100% \n",
      "\n",
      "py-xgboost-1.5.0     | 156 KB    |            |   0% \n",
      "py-xgboost-1.5.0     | 156 KB    | #####1     |  51% \n",
      "py-xgboost-1.5.0     | 156 KB    | ########## | 100% \n",
      "\n",
      "ruamel.yaml.clib-0.2 | 101 KB    |            |   0% \n",
      "ruamel.yaml.clib-0.2 | 101 KB    | ########## | 100% \n",
      "\n",
      "ruamel.yaml-0.17.21  | 174 KB    |            |   0% \n",
      "ruamel.yaml-0.17.21  | 174 KB    | ########2  |  83% \n",
      "ruamel.yaml-0.17.21  | 174 KB    | ########## | 100% \n",
      "\n",
      "_py-xgboost-mutex-2. | 12 KB     |            |   0% \n",
      "_py-xgboost-mutex-2. | 12 KB     | ########## | 100% \n",
      "_py-xgboost-mutex-2. | 12 KB     | ########## | 100% \n"
     ]
    },
    {
     "name": "stderr",
     "output_type": "stream",
     "text": [
      "\n",
      "InvalidArchiveError(\"Error with archive C:\\\\Users\\\\Владелец\\\\.conda\\\\pkgs\\\\libxgboost-1.5.0-hd77b12b_2\\\\.cph_tmpr_8wtmm5\\\\info-libxgboost-1.5.0-hd77b12b_2.tar.zst.  You probably need to delete and re-download or re-create this file.  Message from libarchive was:\\n\\nFailed to open 'C:\\\\Users\\\\Владелец\\\\.conda\\\\pkgs\\\\libxgboost-1.5.0-hd77b12b_2\\\\.cph_tmpr_8wtmm5\\\\info-libxgboost-1.5.0-hd77b12b_2.tar.zst'\")\n",
      "InvalidArchiveError(\"Error with archive C:\\\\Users\\\\Владелец\\\\.conda\\\\pkgs\\\\conda-22.11.1-py39haa95532_4\\\\.cph_tmp2imuo6br\\\\info-conda-22.11.1-py39haa95532_4.tar.zst.  You probably need to delete and re-download or re-create this file.  Message from libarchive was:\\n\\nFailed to open 'C:\\\\Users\\\\Владелец\\\\.conda\\\\pkgs\\\\conda-22.11.1-py39haa95532_4\\\\.cph_tmp2imuo6br\\\\info-conda-22.11.1-py39haa95532_4.tar.zst'\")\n",
      "InvalidArchiveError(\"Error with archive C:\\\\Users\\\\Владелец\\\\.conda\\\\pkgs\\\\xgboost-1.5.0-py39haa95532_2\\\\.cph_tmpc8ngt7tf\\\\info-xgboost-1.5.0-py39haa95532_2.tar.zst.  You probably need to delete and re-download or re-create this file.  Message from libarchive was:\\n\\nFailed to open 'C:\\\\Users\\\\Владелец\\\\.conda\\\\pkgs\\\\xgboost-1.5.0-py39haa95532_2\\\\.cph_tmpc8ngt7tf\\\\info-xgboost-1.5.0-py39haa95532_2.tar.zst'\")\n",
      "InvalidArchiveError(\"Error with archive C:\\\\Users\\\\Владелец\\\\.conda\\\\pkgs\\\\py-xgboost-1.5.0-py39haa95532_2\\\\.cph_tmp8le6qnlz\\\\info-py-xgboost-1.5.0-py39haa95532_2.tar.zst.  You probably need to delete and re-download or re-create this file.  Message from libarchive was:\\n\\nFailed to open 'C:\\\\Users\\\\Владелец\\\\.conda\\\\pkgs\\\\py-xgboost-1.5.0-py39haa95532_2\\\\.cph_tmp8le6qnlz\\\\info-py-xgboost-1.5.0-py39haa95532_2.tar.zst'\")\n",
      "InvalidArchiveError(\"Error with archive C:\\\\Users\\\\Владелец\\\\.conda\\\\pkgs\\\\ruamel.yaml.clib-0.2.6-py39h2bbff1b_1\\\\.cph_tmp9dhliu2l\\\\info-ruamel.yaml.clib-0.2.6-py39h2bbff1b_1.tar.zst.  You probably need to delete and re-download or re-create this file.  Message from libarchive was:\\n\\nFailed to open 'C:\\\\Users\\\\Владелец\\\\.conda\\\\pkgs\\\\ruamel.yaml.clib-0.2.6-py39h2bbff1b_1\\\\.cph_tmp9dhliu2l\\\\info-ruamel.yaml.clib-0.2.6-py39h2bbff1b_1.tar.zst'\")\n",
      "InvalidArchiveError(\"Error with archive C:\\\\Users\\\\Владелец\\\\.conda\\\\pkgs\\\\ruamel.yaml-0.17.21-py39h2bbff1b_0\\\\.cph_tmpadr2n0wz\\\\info-ruamel.yaml-0.17.21-py39h2bbff1b_0.tar.zst.  You probably need to delete and re-download or re-create this file.  Message from libarchive was:\\n\\nFailed to open 'C:\\\\Users\\\\Владелец\\\\.conda\\\\pkgs\\\\ruamel.yaml-0.17.21-py39h2bbff1b_0\\\\.cph_tmpadr2n0wz\\\\info-ruamel.yaml-0.17.21-py39h2bbff1b_0.tar.zst'\")\n",
      "InvalidArchiveError(\"Error with archive C:\\\\Users\\\\Владелец\\\\.conda\\\\pkgs\\\\_py-xgboost-mutex-2.0-cpu_0\\\\.cph_tmp5tstkij1\\\\info-_py-xgboost-mutex-2.0-cpu_0.tar.zst.  You probably need to delete and re-download or re-create this file.  Message from libarchive was:\\n\\nFailed to open 'C:\\\\Users\\\\Владелец\\\\.conda\\\\pkgs\\\\_py-xgboost-mutex-2.0-cpu_0\\\\.cph_tmp5tstkij1\\\\info-_py-xgboost-mutex-2.0-cpu_0.tar.zst'\")\n",
      "\n"
     ]
    }
   ],
   "source": [
    "import sys\n",
    "!conda install --yes --prefix {sys.prefix} xgboost "
   ]
  },
  {
   "cell_type": "code",
   "execution_count": 80,
   "id": "7b1d61af",
   "metadata": {},
   "outputs": [
    {
     "ename": "NameError",
     "evalue": "name 'xgboost' is not defined",
     "output_type": "error",
     "traceback": [
      "\u001b[1;31m---------------------------------------------------------------------------\u001b[0m",
      "\u001b[1;31mNameError\u001b[0m                                 Traceback (most recent call last)",
      "Input \u001b[1;32mIn [80]\u001b[0m, in \u001b[0;36m<cell line: 5>\u001b[1;34m()\u001b[0m\n\u001b[0;32m      1\u001b[0m params \u001b[38;5;241m=\u001b[39m {\u001b[38;5;124m\"\u001b[39m\u001b[38;5;124mn_estimators\u001b[39m\u001b[38;5;124m\"\u001b[39m: \u001b[38;5;241m100\u001b[39m, \u001b[38;5;124m\"\u001b[39m\u001b[38;5;124mlearning_rate\u001b[39m\u001b[38;5;124m\"\u001b[39m: \u001b[38;5;241m0.1\u001b[39m, \u001b[38;5;124m\"\u001b[39m\u001b[38;5;124mmax_depth\u001b[39m\u001b[38;5;124m\"\u001b[39m: \u001b[38;5;241m3\u001b[39m, \u001b[38;5;124m\"\u001b[39m\u001b[38;5;124mmin_child_weight\u001b[39m\u001b[38;5;124m\"\u001b[39m: \u001b[38;5;241m1\u001b[39m, \u001b[38;5;124m\"\u001b[39m\u001b[38;5;124msubsample\u001b[39m\u001b[38;5;124m\"\u001b[39m: \u001b[38;5;241m1\u001b[39m,\n\u001b[0;32m      2\u001b[0m          \u001b[38;5;124m\"\u001b[39m\u001b[38;5;124mcolsample_bytree\u001b[39m\u001b[38;5;124m\"\u001b[39m: \u001b[38;5;241m1\u001b[39m, \u001b[38;5;124m\"\u001b[39m\u001b[38;5;124mn_jobs\u001b[39m\u001b[38;5;124m\"\u001b[39m: \u001b[38;5;241m4\u001b[39m}\n\u001b[1;32m----> 5\u001b[0m clf_cgb \u001b[38;5;241m=\u001b[39m \u001b[43mxgboost\u001b[49m\u001b[38;5;241m.\u001b[39mXGBClassifier(\u001b[38;5;241m*\u001b[39m\u001b[38;5;241m*\u001b[39mparams)\n",
      "\u001b[1;31mNameError\u001b[0m: name 'xgboost' is not defined"
     ]
    }
   ],
   "source": [
    "params = {\"n_estimators\": 100, \"learning_rate\": 0.1, \"max_depth\": 3, \"min_child_weight\": 1, \"subsample\": 1,\n",
    "         \"colsample_bytree\": 1, \"n_jobs\": 4}\n",
    "\n",
    "\n",
    "clf_cgb = xgboost.XGBClassifier(**params)"
   ]
  },
  {
   "cell_type": "code",
   "execution_count": 81,
   "id": "ce3d15d5",
   "metadata": {},
   "outputs": [
    {
     "ename": "NameError",
     "evalue": "name 'clf_cgb' is not defined",
     "output_type": "error",
     "traceback": [
      "\u001b[1;31m---------------------------------------------------------------------------\u001b[0m",
      "\u001b[1;31mNameError\u001b[0m                                 Traceback (most recent call last)",
      "Input \u001b[1;32mIn [81]\u001b[0m, in \u001b[0;36m<cell line: 1>\u001b[1;34m()\u001b[0m\n\u001b[1;32m----> 1\u001b[0m \u001b[43mclf_cgb\u001b[49m\u001b[38;5;241m.\u001b[39mfit(X_train, y_train)\n",
      "\u001b[1;31mNameError\u001b[0m: name 'clf_cgb' is not defined"
     ]
    }
   ],
   "source": [
    "clf_cgb.fit(X_train, y_train)"
   ]
  },
  {
   "cell_type": "code",
   "execution_count": null,
   "id": "57b0bec1",
   "metadata": {},
   "outputs": [],
   "source": []
  }
 ],
 "metadata": {
  "kernelspec": {
   "display_name": "Python 3 (ipykernel)",
   "language": "python",
   "name": "python3"
  },
  "language_info": {
   "codemirror_mode": {
    "name": "ipython",
    "version": 3
   },
   "file_extension": ".py",
   "mimetype": "text/x-python",
   "name": "python",
   "nbconvert_exporter": "python",
   "pygments_lexer": "ipython3",
   "version": "3.9.12"
  }
 },
 "nbformat": 4,
 "nbformat_minor": 5
}
